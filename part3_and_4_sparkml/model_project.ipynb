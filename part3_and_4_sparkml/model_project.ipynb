{
 "cells": [
  {
   "cell_type": "markdown",
   "metadata": {},
   "source": [
    "# Módulo # 4 - Big Data\n",
    "\n",
    "## Final Project\n",
    "## Autor: Jose Martinez"
   ]
  },
  {
   "cell_type": "markdown",
   "metadata": {},
   "source": [
    "# Input Data\n",
    "\n",
    "## Probability of winning an Oscar in a movie based on the IMDb and Rotten Tomatoes ratings\n",
    "\n",
    "### Features Oscar Data Set\n",
    "\n",
    "- `year_film`: year of the film (integer)\n",
    "- `year_ceremony`: year of the ceremony (integer)\n",
    "- `ceremony_name`: name of the ceremony (string)\n",
    "- `category`: category of the ceremony (string)\n",
    "- `name`: name of the film (string)\n",
    "- `film`: name of the film (string)\n",
    "- `winner`: winner of the ceremony (string)\n",
    "\n",
    "### Features IMDB Data Set\n",
    "\n",
    "- `imdb_title_id`: IMDB title id (string)\n",
    "- `title`: title of the movie (string)\n",
    "- `original_title`: original title of the movie (string)\n",
    "- `year`: year of the movie (integer)\n",
    "- `date_published`: date of publication of the movie (string)\n",
    "- `genre`: genre of the movie (string)\n",
    "- `duration`: duration of the movie (integer)\n",
    "- `country`: country of origin of the movie (string)\n",
    "- `language`: language of the movie (string)\n",
    "- `director`: director of the movie (string)\n",
    "- `writer`: writer of the movie (string)\n",
    "- `production_company`: production company of the movie (string)\n",
    "- `actors`: actors of the movie (string)\n",
    "- `avg_vote`: average vote of the movie (float)\n",
    "- `votes`: number of votes of the movie (integer)\n",
    "- `budget`: budget of the movie (float)\n",
    "- `usa_gross_income`: gross income of the movie in USA (float)\n",
    "- `worlwide_gross_income`: gross income of the movie in the world (float)\n",
    "- `metascore`: metascore of the movie (integer)\n",
    "- `reviews_from_users`: number of reviews from users of the movie (float)\n",
    "- `reviews_from_critics`: number of reviews from critics of the movie (float)\n",
    "\n",
    "### Features Rotten Tomatoes Data Set\n",
    "\n",
    "- `rotten_tomatoes_link`: link to the Rotten Tomatoes page of the movie (string)\n",
    "- `movie_title`: title of the movie (string)\n",
    "- `movie_info`: information about the movie (string)\n",
    "- `critics_consensus`: critics consensus about the movie (string)\n",
    "- `content_rating`: content rating of the movie (string)\n",
    "- `genres`: list of genres of the movie (string)\n",
    "- `directors`: list of directors of the movie (string)\n",
    "- `authors`: list of authors of the movie (string)\n",
    "- `actors_rt`: list of actors of the movie (string)\n",
    "- `original_release_date`: original release date of the movie (string)\n",
    "- `streaming_release_date`: streaming release date of the movie (string)\n",
    "- `runtime`: runtime of the movie (integer)\n",
    "- `production_company_rt`: production company of the movie (string)\n",
    "- `tomatometer_status`: status of the movie on the tomatometer (string)\n",
    "- `tomatometer_rating`: rating of the movie on the tomatometer (integer)\n",
    "- `tomatometer_count`: number of votes of the movie on the tomatometer (integer)\n",
    "- `audience_status`: status of the movie on the audience (string)\n",
    "- `audience_rating`: rating of the movie on the audience (integer)\n",
    "- `audience_count`: number of votes of the movie on the audience (integer)\n",
    "- `tomatometer_top_critics_count`: number of top critics of the movie on the tomatometer (integer)\n",
    "- `tomatometer_fresh_critics_count`: number of fresh critics of the movie on the tomatometer (integer)\n",
    "- `tomatometer_rotten_critics_count`: number of rotten critics of the movie on the tomatometer (integer\n",
    "\n",
    "### Target Variable\n",
    "\n",
    "- `winner`: winner of the ceremony (string)"
   ]
  },
  {
   "cell_type": "code",
   "execution_count": 1,
   "metadata": {},
   "outputs": [
    {
     "name": "stderr",
     "output_type": "stream",
     "text": [
      "WARNING: An illegal reflective access operation has occurred\n",
      "WARNING: Illegal reflective access by org.apache.spark.unsafe.Platform (file:/usr/lib/python3.7/site-packages/pyspark/jars/spark-unsafe_2.12-3.2.0.jar) to constructor java.nio.DirectByteBuffer(long,int)\n",
      "WARNING: Please consider reporting this to the maintainers of org.apache.spark.unsafe.Platform\n",
      "WARNING: Use --illegal-access=warn to enable warnings of further illegal reflective access operations\n",
      "WARNING: All illegal access operations will be denied in a future release\n",
      "Using Spark's default log4j profile: org/apache/spark/log4j-defaults.properties\n",
      "Setting default log level to \"WARN\".\n",
      "To adjust logging level use sc.setLogLevel(newLevel). For SparkR, use setLogLevel(newLevel).\n",
      "21/11/03 21:22:56 WARN NativeCodeLoader: Unable to load native-hadoop library for your platform... using builtin-java classes where applicable\n"
     ]
    },
    {
     "name": "stdout",
     "output_type": "stream",
     "text": [
      "root\n",
      " |-- RowNumber: integer (nullable = true)\n",
      " |-- CustomerId: integer (nullable = true)\n",
      " |-- Surname: string (nullable = true)\n",
      " |-- CreditScore: integer (nullable = true)\n",
      " |-- Geography: string (nullable = true)\n",
      " |-- Gender: string (nullable = true)\n",
      " |-- Age: integer (nullable = true)\n",
      " |-- Tenure: integer (nullable = true)\n",
      " |-- Balance: float (nullable = true)\n",
      " |-- NumOfProducts: integer (nullable = true)\n",
      " |-- HasCrCard: integer (nullable = true)\n",
      " |-- IsActiveMember: integer (nullable = true)\n",
      " |-- EstimatedSalary: float (nullable = true)\n",
      " |-- Exited: integer (nullable = true)\n",
      "\n",
      "+---------+----------+---------+-----------+---------+------+---+------+---------+-------------+---------+--------------+---------------+------+\n",
      "|RowNumber|CustomerId|  Surname|CreditScore|Geography|Gender|Age|Tenure|  Balance|NumOfProducts|HasCrCard|IsActiveMember|EstimatedSalary|Exited|\n",
      "+---------+----------+---------+-----------+---------+------+---+------+---------+-------------+---------+--------------+---------------+------+\n",
      "|        1|  15634602| Hargrave|        619|   France|Female| 42|     2|      0.0|            1|        1|             1|      101348.88|     1|\n",
      "|        2|  15647311|     Hill|        608|    Spain|Female| 41|     1| 83807.86|            1|        0|             1|      112542.58|     0|\n",
      "|        3|  15619304|     Onio|        502|   France|Female| 42|     8| 159660.8|            3|        1|             0|      113931.57|     1|\n",
      "|        4|  15701354|     Boni|        699|   France|Female| 39|     1|      0.0|            2|        0|             0|       93826.63|     0|\n",
      "|        5|  15737888| Mitchell|        850|    Spain|Female| 43|     2|125510.82|            1|        1|             1|        79084.1|     0|\n",
      "|        6|  15574012|      Chu|        645|    Spain|  Male| 44|     8|113755.78|            2|        1|             0|       149756.7|     1|\n",
      "|        7|  15592531| Bartlett|        822|   France|  Male| 50|     7|      0.0|            2|        1|             1|        10062.8|     0|\n",
      "|        8|  15656148|   Obinna|        376|  Germany|Female| 29|     4|115046.74|            4|        1|             0|      119346.88|     1|\n",
      "|        9|  15792365|       He|        501|   France|  Male| 44|     4|142051.06|            2|        0|             1|        74940.5|     0|\n",
      "|       10|  15592389|       H?|        684|   France|  Male| 27|     2|134603.88|            1|        1|             1|       71725.73|     0|\n",
      "|       11|  15767821|   Bearce|        528|   France|  Male| 31|     6|102016.72|            2|        0|             0|       80181.12|     0|\n",
      "|       12|  15737173|  Andrews|        497|    Spain|  Male| 24|     3|      0.0|            2|        1|             0|       76390.01|     0|\n",
      "|       13|  15632264|      Kay|        476|   France|Female| 34|    10|      0.0|            2|        1|             0|       26260.98|     0|\n",
      "|       14|  15691483|     Chin|        549|   France|Female| 25|     5|      0.0|            2|        0|             0|       190857.8|     0|\n",
      "|       15|  15600882|    Scott|        635|    Spain|Female| 35|     7|      0.0|            2|        1|             1|       65951.65|     0|\n",
      "|       16|  15643966|  Goforth|        616|  Germany|  Male| 45|     3| 143129.4|            2|        0|             1|       64327.26|     0|\n",
      "|       17|  15737452|    Romeo|        653|  Germany|  Male| 58|     1|132602.88|            1|        1|             0|        5097.67|     1|\n",
      "|       18|  15788218|Henderson|        549|    Spain|Female| 24|     9|      0.0|            2|        1|             1|       14406.41|     0|\n",
      "|       19|  15661507|  Muldrow|        587|    Spain|  Male| 45|     6|      0.0|            1|        0|             0|      158684.81|     0|\n",
      "|       20|  15568982|      Hao|        726|   France|Female| 24|     6|      0.0|            2|        1|             1|       54724.03|     0|\n",
      "+---------+----------+---------+-----------+---------+------+---+------+---------+-------------+---------+--------------+---------------+------+\n",
      "only showing top 20 rows\n",
      "\n"
     ]
    },
    {
     "name": "stderr",
     "output_type": "stream",
     "text": [
      "                                                                                \r"
     ]
    }
   ],
   "source": [
    "import findspark\n",
    "findspark.init('/usr/lib/python3.7/site-packages/pyspark')\n",
    "from pyspark.sql import SparkSession\n",
    "\n",
    "spark = SparkSession \\\n",
    "    .builder \\\n",
    "    .appName(\"Bigdata: Model\") \\\n",
    "    .config(\"spark.driver.extraClassPath\", \"postgresql-42.2.14.jar\") \\\n",
    "    .config(\"spark.executor.extraClassPath\", \"postgresql-42.2.14.jar\") \\\n",
    "    .getOrCreate()"
   ]
  },
  {
   "cell_type": "markdown",
   "metadata": {},
   "source": [
    "# Read data from DB"
   ]
  },
  {
   "cell_type": "code",
   "execution_count": null,
   "metadata": {},
   "outputs": [],
   "source": [
    "from pyspark.ml.feature import VectorAssembler\n",
    "\n",
    "\n",
    "columns_features = [\n",
    "    \"duration\", \"director_indexed\", \"writer_indexed\", \n",
    "    \"production_company_indexed\", \"actors_indexed\", \"genre_indexed\", \n",
    "    \"avg_vote\", \"votes\", \"reviews_from_users\", \"reviews_from_critics\", \n",
    "    \"tomatometer_rating\", \"tomatometer_count\", \"audience_rating\", \n",
    "    \"audience_count\", \"tomatometer_top_critics_count\", \n",
    "    \"tomatometer_fresh_critics_count\", \"tomatometer_rotten_critics_count\"\n",
    "]\n",
    "\n",
    "# Reading single DataFrame in Spark by retrieving all rows from a DB table.\n",
    "df = spark \\\n",
    "    .read \\\n",
    "    .format(\"jdbc\") \\\n",
    "    .option(\"url\", \"jdbc:postgresql://172.17.0.1:5433/postgres\") \\\n",
    "    .option(\"user\", \"postgres\") \\\n",
    "    .option(\"password\", \"testPassword\") \\\n",
    "    .option(\"dbtable\", \"df_clean\") \\\n",
    "    .load()\n",
    "\n",
    "df.show()\n",
    "\n",
    "assembler = VectorAssembler(\n",
    "    inputCols=columns_features,\n",
    "    outputCol='Features')\n",
    "\n",
    "df = assembler.transform(df)\n",
    "df = df.select(['Features', 'winner_indexed'])\n",
    "df.show()"
   ]
  },
  {
   "cell_type": "markdown",
   "metadata": {},
   "source": [
    "# Training the Model"
   ]
  },
  {
   "cell_type": "markdown",
   "metadata": {},
   "source": [
    "## Split data into training and testing sets"
   ]
  },
  {
   "cell_type": "code",
   "execution_count": 10,
   "metadata": {},
   "outputs": [
    {
     "name": "stdout",
     "output_type": "stream",
     "text": [
      "14074\n",
      "9877\n",
      "4197\n"
     ]
    }
   ],
   "source": [
    "# Split the data into training and test sets (70 % training, 30 % test)\n",
    "training_df, test_df = df.randomSplit([0.7, 0.3])\n",
    "\n",
    "# Print the number of observations in the training (label) and test (label) datasets\n",
    "print(df.count())\n",
    "print(training_df.count())\n",
    "print(test_df.count())"
   ]
  },
  {
   "cell_type": "markdown",
   "metadata": {},
   "source": [
    "## Use the K-fold cross validation"
   ]
  },
  {
   "cell_type": "code",
   "execution_count": 11,
   "metadata": {},
   "outputs": [],
   "source": [
    "# Codigo tomado de https://stackoverflow.com/questions/53600615/cross-validation-metrics-with-pyspark\n",
    "from pyspark.ml.tuning import CrossValidator, CrossValidatorModel\n",
    "from pyspark.mllib.evaluation import BinaryClassificationMetrics\n",
    "from pyspark.sql.functions import rand\n",
    "import numpy as np\n",
    "import collections\n",
    "\n",
    "TestResult = collections.namedtuple(\"TestResult\", [\"params\", \"metrics\"])\n",
    "\n",
    "class CrossValidatorVerbose(CrossValidator):\n",
    "\n",
    "    def _fit(self, dataset):\n",
    "        folds = []\n",
    "        est = self.getOrDefault(self.estimator)\n",
    "        epm = self.getOrDefault(self.estimatorParamMaps)\n",
    "        numModels = len(epm)\n",
    "\n",
    "        eva = self.getOrDefault(self.evaluator)\n",
    "        metricName = eva.getMetricName()\n",
    "        nFolds = self.getOrDefault(self.numFolds)\n",
    "        seed = self.getOrDefault(self.seed)\n",
    "        h = 1.0 / nFolds\n",
    "\n",
    "        randCol = self.uid + \"_rand\"\n",
    "        df = dataset.select(\"*\", rand(seed).alias(randCol))\n",
    "        metrics = [0.0] * numModels\n",
    "\n",
    "        for i in range(nFolds):\n",
    "            folds.append([])\n",
    "            foldNum = i + 1\n",
    "            print(\"Comparing models on fold %d\" % foldNum)\n",
    "\n",
    "            validateLB = i * h\n",
    "            validateUB = (i + 1) * h\n",
    "            condition = (df[randCol] >= validateLB) & (df[randCol] < validateUB)\n",
    "            validation = df.filter(condition)\n",
    "            train = df.filter(~condition)\n",
    "\n",
    "            for j in range(numModels):\n",
    "                paramMap = epm[j]\n",
    "                model = est.fit(train, paramMap)\n",
    "                # TODO: duplicate evaluator to take extra params from input\n",
    "                prediction = model.transform(validation, paramMap)\n",
    "                metric = eva.evaluate(prediction)\n",
    "                metrics[j] += metric\n",
    "\n",
    "                avgSoFar = metrics[j] / foldNum\n",
    "                print(\"params: %s\\t%s: %f\\tavg: %f\" % (\n",
    "                    {param.name: val for (param, val) in paramMap.items()},\n",
    "                    metricName, metric, avgSoFar))\n",
    "                \n",
    "                predictionLabels = prediction.select(\"prediction\", \"winner_indexed\")\n",
    "                allMetrics = BinaryClassificationMetrics(predictionLabels.rdd)\n",
    "                folds[i].append(TestResult(paramMap.items(), allMetrics))\n",
    "                \n",
    "\n",
    "        if eva.isLargerBetter():\n",
    "            bestIndex = np.argmax(metrics)\n",
    "        else:\n",
    "            bestIndex = np.argmin(metrics)\n",
    "\n",
    "        bestParams = epm[bestIndex]\n",
    "        bestModel = est.fit(dataset, bestParams)\n",
    "        avgMetrics = [m / nFolds for m in metrics]\n",
    "        bestAvg = avgMetrics[bestIndex]\n",
    "        print(\"Best model:\\nparams: %s\\t%s: %f\" % (\n",
    "            {param.name: val for (param, val) in bestParams.items()},\n",
    "            metricName, bestAvg))\n",
    "\n",
    "        return self._copyValues(CrossValidatorModel(bestModel, avgMetrics)), folds"
   ]
  },
  {
   "cell_type": "markdown",
   "metadata": {},
   "source": [
    "## Modelo 1: Regresión Logística "
   ]
  },
  {
   "cell_type": "code",
   "execution_count": 12,
   "metadata": {},
   "outputs": [
    {
     "name": "stdout",
     "output_type": "stream",
     "text": [
      "+--------------------+------+\n",
      "|      scaledFeatures|Exited|\n",
      "+--------------------+------+\n",
      "|(10,[0,1,2,6,9],[...|     0|\n",
      "|(10,[0,1,2,6,9],[...|     0|\n",
      "|(10,[0,2,3,6,9],[...|     0|\n",
      "|(10,[0,2,3,6,9],[...|     0|\n",
      "|(10,[0,2,3,6,9],[...|     0|\n",
      "|(10,[0,2,3,6,9],[...|     0|\n",
      "|(10,[0,2,3,6,9],[...|     0|\n",
      "|(10,[0,2,3,6,9],[...|     0|\n",
      "|(10,[0,2,3,6,9],[...|     0|\n",
      "|(10,[0,2,3,6,9],[...|     0|\n",
      "|(10,[0,2,3,6,9],[...|     0|\n",
      "|(10,[0,2,3,6,9],[...|     0|\n",
      "|(10,[0,2,3,6,9],[...|     0|\n",
      "|(10,[0,2,3,6,9],[...|     0|\n",
      "|(10,[0,2,3,6,9],[...|     0|\n",
      "|(10,[0,2,3,6,9],[...|     0|\n",
      "|(10,[0,2,3,6,9],[...|     0|\n",
      "|(10,[0,2,3,6,9],[...|     0|\n",
      "|(10,[0,2,3,6,9],[...|     0|\n",
      "|(10,[0,2,3,6,9],[...|     0|\n",
      "+--------------------+------+\n",
      "only showing top 20 rows\n",
      "\n",
      "Comparing models on fold 1\n"
     ]
    },
    {
     "name": "stderr",
     "output_type": "stream",
     "text": [
      "                                                                                \r"
     ]
    },
    {
     "name": "stdout",
     "output_type": "stream",
     "text": [
      "params: {'maxIter': 10}\tareaUnderROC: 0.752572\tavg: 0.752572\n",
      "Comparing models on fold 2\n"
     ]
    },
    {
     "name": "stderr",
     "output_type": "stream",
     "text": [
      "                                                                                \r"
     ]
    },
    {
     "name": "stdout",
     "output_type": "stream",
     "text": [
      "params: {'maxIter': 10}\tareaUnderROC: 0.772068\tavg: 0.762320\n",
      "Comparing models on fold 3\n"
     ]
    },
    {
     "name": "stderr",
     "output_type": "stream",
     "text": [
      "                                                                                \r"
     ]
    },
    {
     "name": "stdout",
     "output_type": "stream",
     "text": [
      "params: {'maxIter': 10}\tareaUnderROC: 0.778107\tavg: 0.767582\n",
      "Comparing models on fold 4\n"
     ]
    },
    {
     "name": "stderr",
     "output_type": "stream",
     "text": [
      "                                                                                \r"
     ]
    },
    {
     "name": "stdout",
     "output_type": "stream",
     "text": [
      "params: {'maxIter': 10}\tareaUnderROC: 0.780993\tavg: 0.770935\n",
      "Comparing models on fold 5\n"
     ]
    },
    {
     "name": "stderr",
     "output_type": "stream",
     "text": [
      "                                                                                \r"
     ]
    },
    {
     "name": "stdout",
     "output_type": "stream",
     "text": [
      "params: {'maxIter': 10}\tareaUnderROC: 0.759289\tavg: 0.768606\n"
     ]
    },
    {
     "name": "stderr",
     "output_type": "stream",
     "text": [
      "                                                                                \r"
     ]
    },
    {
     "name": "stdout",
     "output_type": "stream",
     "text": [
      "Best model:\n",
      "params: {'maxIter': 10}\tareaUnderROC: 0.768606\n"
     ]
    }
   ],
   "source": [
    "from pyspark.ml.evaluation import BinaryClassificationEvaluator\n",
    "from pyspark.ml.classification import LogisticRegression\n",
    "from pyspark.ml.tuning import ParamGridBuilder\n",
    "\n",
    "df = training_df.select('Features', 'winner_indexed')\n",
    "df.show()\n",
    "\n",
    "lr = LogisticRegression(featuresCol='Features', labelCol='winner_indexed', maxIter=10)\n",
    "grid = ParamGridBuilder().addGrid(param=lr.maxIter, values=[10]).build()\n",
    "\n",
    "# Implementa k-Folds e imprime informacion por cada iteracion\n",
    "cv = CrossValidatorVerbose(estimator=lr,\n",
    "                           estimatorParamMaps=grid,\n",
    "                           evaluator=BinaryClassificationEvaluator(labelCol='winner_indexed'),\n",
    "                           numFolds=5)\n",
    "\n",
    "cvlr_model, lr_folds = cv.fit(df)"
   ]
  },
  {
   "cell_type": "markdown",
   "metadata": {},
   "source": [
    "## Modelo 2: Random Forest"
   ]
  },
  {
   "cell_type": "code",
   "execution_count": 13,
   "metadata": {},
   "outputs": [
    {
     "name": "stdout",
     "output_type": "stream",
     "text": [
      "+--------------------+------+\n",
      "|      scaledFeatures|Exited|\n",
      "+--------------------+------+\n",
      "|(10,[0,1,2,6,9],[...|     0|\n",
      "|(10,[0,1,2,6,9],[...|     0|\n",
      "|(10,[0,2,3,6,9],[...|     0|\n",
      "|(10,[0,2,3,6,9],[...|     0|\n",
      "|(10,[0,2,3,6,9],[...|     0|\n",
      "|(10,[0,2,3,6,9],[...|     0|\n",
      "|(10,[0,2,3,6,9],[...|     0|\n",
      "|(10,[0,2,3,6,9],[...|     0|\n",
      "|(10,[0,2,3,6,9],[...|     0|\n",
      "|(10,[0,2,3,6,9],[...|     0|\n",
      "|(10,[0,2,3,6,9],[...|     0|\n",
      "|(10,[0,2,3,6,9],[...|     0|\n",
      "|(10,[0,2,3,6,9],[...|     0|\n",
      "|(10,[0,2,3,6,9],[...|     0|\n",
      "|(10,[0,2,3,6,9],[...|     0|\n",
      "|(10,[0,2,3,6,9],[...|     0|\n",
      "|(10,[0,2,3,6,9],[...|     0|\n",
      "|(10,[0,2,3,6,9],[...|     0|\n",
      "|(10,[0,2,3,6,9],[...|     0|\n",
      "|(10,[0,2,3,6,9],[...|     0|\n",
      "+--------------------+------+\n",
      "only showing top 20 rows\n",
      "\n",
      "Comparing models on fold 1\n",
      "params: {'maxDepth': 4}\tareaUnderROC: 0.823172\tavg: 0.823172\n",
      "Comparing models on fold 2\n",
      "params: {'maxDepth': 4}\tareaUnderROC: 0.838866\tavg: 0.831019\n",
      "Comparing models on fold 3\n",
      "params: {'maxDepth': 4}\tareaUnderROC: 0.855573\tavg: 0.839204\n",
      "Comparing models on fold 4\n",
      "params: {'maxDepth': 4}\tareaUnderROC: 0.846506\tavg: 0.841029\n",
      "Comparing models on fold 5\n",
      "params: {'maxDepth': 4}\tareaUnderROC: 0.830883\tavg: 0.839000\n",
      "Best model:\n",
      "params: {'maxDepth': 4}\tareaUnderROC: 0.839000\n"
     ]
    }
   ],
   "source": [
    "from pyspark.ml.evaluation import BinaryClassificationEvaluator\n",
    "from pyspark.ml.classification import RandomForestClassifier\n",
    "from pyspark.ml.tuning import ParamGridBuilder\n",
    "\n",
    "df = training_df.select('Features', 'winner_indexed')\n",
    "df.show()\n",
    "\n",
    "rf = RandomForestClassifier(featuresCol='Features', labelCol='winner_indexed', maxDepth=4)\n",
    "grid = ParamGridBuilder().addGrid(rf.maxDepth, values=[4]).build()\n",
    "\n",
    "# Implementa k-Folds e imprime informacion por cada iteracion\n",
    "cv = CrossValidatorVerbose(estimator=rf,\n",
    "                           estimatorParamMaps=grid,\n",
    "                           evaluator=BinaryClassificationEvaluator(labelCol='winner_indexed'),\n",
    "                           numFolds=5)\n",
    "\n",
    "cvrf_model, rf_folds = cv.fit(df)"
   ]
  },
  {
   "cell_type": "markdown",
   "metadata": {},
   "source": [
    "## Model 3: Decision Tree"
   ]
  },
  {
   "cell_type": "code",
   "execution_count": 14,
   "metadata": {},
   "outputs": [
    {
     "name": "stdout",
     "output_type": "stream",
     "text": [
      "+--------------------+------+\n",
      "|      scaledFeatures|Exited|\n",
      "+--------------------+------+\n",
      "|(10,[0,1,2,6,9],[...|     0|\n",
      "|(10,[0,1,2,6,9],[...|     0|\n",
      "|(10,[0,2,3,6,9],[...|     0|\n",
      "|(10,[0,2,3,6,9],[...|     0|\n",
      "|(10,[0,2,3,6,9],[...|     0|\n",
      "|(10,[0,2,3,6,9],[...|     0|\n",
      "|(10,[0,2,3,6,9],[...|     0|\n",
      "|(10,[0,2,3,6,9],[...|     0|\n",
      "|(10,[0,2,3,6,9],[...|     0|\n",
      "|(10,[0,2,3,6,9],[...|     0|\n",
      "|(10,[0,2,3,6,9],[...|     0|\n",
      "|(10,[0,2,3,6,9],[...|     0|\n",
      "|(10,[0,2,3,6,9],[...|     0|\n",
      "|(10,[0,2,3,6,9],[...|     0|\n",
      "|(10,[0,2,3,6,9],[...|     0|\n",
      "|(10,[0,2,3,6,9],[...|     0|\n",
      "|(10,[0,2,3,6,9],[...|     0|\n",
      "|(10,[0,2,3,6,9],[...|     0|\n",
      "|(10,[0,2,3,6,9],[...|     0|\n",
      "|(10,[0,2,3,6,9],[...|     0|\n",
      "+--------------------+------+\n",
      "only showing top 20 rows\n",
      "\n",
      "Comparing models on fold 1\n",
      "params: {'maxDepth': 4}\tareaUnderROC: 0.664980\tavg: 0.664980\n",
      "Comparing models on fold 2\n",
      "params: {'maxDepth': 4}\tareaUnderROC: 0.645564\tavg: 0.655272\n",
      "Comparing models on fold 3\n",
      "params: {'maxDepth': 4}\tareaUnderROC: 0.690391\tavg: 0.666978\n",
      "Comparing models on fold 4\n",
      "params: {'maxDepth': 4}\tareaUnderROC: 0.640014\tavg: 0.660237\n",
      "Comparing models on fold 5\n",
      "params: {'maxDepth': 4}\tareaUnderROC: 0.628016\tavg: 0.653793\n",
      "Best model:\n",
      "params: {'maxDepth': 4}\tareaUnderROC: 0.653793\n"
     ]
    }
   ],
   "source": [
    "from pyspark.ml.evaluation import BinaryClassificationEvaluator\n",
    "from pyspark.ml.classification import DecisionTreeClassifier\n",
    "from pyspark.ml.tuning import ParamGridBuilder\n",
    "\n",
    "df = training_df.select('Features', 'winner_indexed')\n",
    "df.show()\n",
    "\n",
    "dt = DecisionTreeClassifier(featuresCol='Features', labelCol='winner_indexed', maxDepth = 4)\n",
    "grid = ParamGridBuilder().addGrid(dt.maxDepth, values=[4]).build()\n",
    "\n",
    "# Implementa k-Folds e imprime informacion por cada iteracion\n",
    "cv = CrossValidatorVerbose(estimator=dt,\n",
    "                           estimatorParamMaps=grid,\n",
    "                           evaluator=BinaryClassificationEvaluator(labelCol='winner_indexed'),\n",
    "                           numFolds=5)\n",
    "\n",
    "cvdt_model, dt_folds = cv.fit(df)"
   ]
  },
  {
   "cell_type": "markdown",
   "metadata": {},
   "source": [
    "# Evaluación del conjunto de validación"
   ]
  },
  {
   "cell_type": "code",
   "execution_count": 15,
   "metadata": {},
   "outputs": [],
   "source": [
    "from pyspark.ml.evaluation import BinaryClassificationEvaluator, MulticlassClassificationEvaluator\n",
    "from pyspark.mllib.evaluation import BinaryClassificationMetrics\n",
    "from pyspark.sql.functions import explode, array, lit, col\n",
    "from pyspark.ml.functions import vector_to_array\n",
    "import matplotlib.pyplot as plt\n",
    "import numpy as np\n",
    "\n",
    "def display_metrics(model):\n",
    "    # Make predictions on the test set\n",
    "    predictions = model.transform(test_df.select('Features', 'winner_indexed'))\n",
    "\n",
    "    # Evaluate the model\n",
    "    evaluator = BinaryClassificationEvaluator(labelCol='winner_indexed')\n",
    "    auroc = evaluator.evaluate(predictions, {evaluator.metricName: \"areaUnderROC\"})\n",
    "    auprc = evaluator.evaluate(predictions, {evaluator.metricName: \"areaUnderPR\"})\n",
    "    print(\"Area under ROC Curve: {:.5f}\".format(auroc))\n",
    "    print(\"Area under PR Curve: {:.5f}\".format(auprc))\n",
    "    \n",
    "    evaluator = MulticlassClassificationEvaluator(labelCol='winner_indexed', metricName=\"accuracy\")\n",
    "    acc = evaluator.evaluate(predictions)\n",
    "    print(\"Accuracy: {:.5f}\".format(acc))\n",
    "\n",
    "    return auroc, auprc, acc\n",
    "    \n",
    "def save_model(model_name, model):\n",
    "    \n",
    "    predictions = model.transform(test_df.select('Features', 'winner_indexed'))\n",
    "    \n",
    "    pre_df = (predictions.withColumn(\"Features\", vector_to_array(\"Features\"))).select([\"prediction\"] + [\"winner_indexed\"] + [col(\"Features\")[i].alias(columns_features[i]) for i in range(len(columns_features))])    \n",
    "    pre_df.printSchema()\n",
    "    \n",
    "    pre_df \\\n",
    "        .write \\\n",
    "        .format(\"jdbc\") \\\n",
    "        .mode('overwrite') \\\n",
    "        .option(\"url\", \"jdbc:postgresql://172.17.0.1:5433/postgres\") \\\n",
    "        .option(\"user\", \"postgres\") \\\n",
    "        .option(\"password\", \"testPassword\") \\\n",
    "        .option(\"dbtable\", model_name) \\\n",
    "        .save()"
   ]
  },
  {
   "cell_type": "markdown",
   "metadata": {},
   "source": [
    "## Evaluación y almacenado de modelo 1"
   ]
  },
  {
   "cell_type": "code",
   "execution_count": 16,
   "metadata": {},
   "outputs": [
    {
     "name": "stdout",
     "output_type": "stream",
     "text": [
      "Pesos: [-0.053849625232375,-0.2676287377490143,0.8349209435548324,-0.04819933321148136,0.2841071618335499,0.22048830566993,-0.06007775363258871,-0.008039666790305731,-0.48869446283421447,0.012758411033233916]\n",
      " b: -2.893638247952581\n"
     ]
    },
    {
     "data": {
      "image/png": "[encoded data removed]",
      "text/plain": [
       "<Figure size 432x288 with 1 Axes>"
      ]
     },
     "metadata": {
      "needs_background": "light"
     },
     "output_type": "display_data"
    },
    {
     "name": "stderr",
     "output_type": "stream",
     "text": [
      "/usr/lib/python3.7/site-packages/pyspark/sql/context.py:127: FutureWarning: Deprecated in 3.0.0. Use SparkSession.builder.getOrCreate() instead.\n",
      "  FutureWarning\n"
     ]
    },
    {
     "data": {
      "image/png": "[encoded data removed]",
      "text/plain": [
       "<Figure size 432x288 with 1 Axes>"
      ]
     },
     "metadata": {
      "needs_background": "light"
     },
     "output_type": "display_data"
    },
    {
     "name": "stderr",
     "output_type": "stream",
     "text": [
      "/usr/lib/python3.7/site-packages/pyspark/sql/context.py:127: FutureWarning: Deprecated in 3.0.0. Use SparkSession.builder.getOrCreate() instead.\n",
      "  FutureWarning\n"
     ]
    },
    {
     "data": {
      "image/png": "[encoded data removed]",
      "text/plain": [
       "<Figure size 432x288 with 1 Axes>"
      ]
     },
     "metadata": {
      "needs_background": "light"
     },
     "output_type": "display_data"
    },
    {
     "name": "stdout",
     "output_type": "stream",
     "text": [
      "Area under ROC Curve: 0.75755\n",
      "Area under PR Curve: 0.67929\n",
      "Accuracy: 0.70241\n",
      "root\n",
      " |-- prediction: double (nullable = false)\n",
      " |-- Exited: integer (nullable = true)\n",
      " |-- CreditScore: double (nullable = true)\n",
      " |-- Gender: double (nullable = true)\n",
      " |-- Age: double (nullable = true)\n",
      " |-- Tenure: double (nullable = true)\n",
      " |-- Geography: double (nullable = true)\n",
      " |-- Balance: double (nullable = true)\n",
      " |-- NumOfProducts: double (nullable = true)\n",
      " |-- HasCrCard: double (nullable = true)\n",
      " |-- IsActiveMember: double (nullable = true)\n",
      " |-- EstimatedSalary: double (nullable = true)\n",
      "\n"
     ]
    }
   ],
   "source": [
    "# Crea graficas y analisis de los resultados\n",
    "\n",
    "# Weights\n",
    "print('Pesos: {}\\n b: {}'.format(cvlr_model.bestModel.coefficients, cvlr_model.bestModel.intercept))\n",
    "\n",
    "# Coefficients \n",
    "beta = np.sort(cvlr_model.bestModel.coefficients)\n",
    "plt.plot(beta)\n",
    "plt.ylabel('Beta Coefficients')\n",
    "plt.show()\n",
    "\n",
    "# Area under ROC\n",
    "trainingSummary = cvlr_model.bestModel.summary\n",
    "roc = trainingSummary.roc.toPandas()\n",
    "plt.plot(roc['FPR'],roc['TPR'])\n",
    "plt.ylabel('False Positive Rate')\n",
    "plt.xlabel('True Positive Rate')\n",
    "plt.title('ROC Curve')\n",
    "plt.show()\n",
    "\n",
    "# Precision and recall.\n",
    "pr = trainingSummary.pr.toPandas()\n",
    "plt.plot(pr['recall'],pr['precision'])\n",
    "plt.ylabel('Precision')\n",
    "plt.xlabel('Recall')\n",
    "plt.show()\n",
    "    \n",
    "cvlr_auroc, cvlr_auprc, cvlr_acc = display_metrics(cvlr_model)\n",
    "\n",
    "# Guardar modelo en base de datos\n",
    "save_model(\"modelo1\", cvlr_model)"
   ]
  },
  {
   "cell_type": "markdown",
   "metadata": {},
   "source": [
    "## Evaluación y almacenado de modelo 2"
   ]
  },
  {
   "cell_type": "code",
   "execution_count": 17,
   "metadata": {},
   "outputs": [
    {
     "name": "stderr",
     "output_type": "stream",
     "text": [
      "/usr/lib/python3.7/site-packages/pyspark/sql/context.py:127: FutureWarning: Deprecated in 3.0.0. Use SparkSession.builder.getOrCreate() instead.\n",
      "  FutureWarning\n"
     ]
    },
    {
     "data": {
      "image/png": "[encoded data removed]",
      "text/plain": [
       "<Figure size 432x288 with 1 Axes>"
      ]
     },
     "metadata": {
      "needs_background": "light"
     },
     "output_type": "display_data"
    },
    {
     "name": "stderr",
     "output_type": "stream",
     "text": [
      "/usr/lib/python3.7/site-packages/pyspark/sql/context.py:127: FutureWarning: Deprecated in 3.0.0. Use SparkSession.builder.getOrCreate() instead.\n",
      "  FutureWarning\n"
     ]
    },
    {
     "data": {
      "image/png": "[encoded data removed]",
      "text/plain": [
       "<Figure size 432x288 with 1 Axes>"
      ]
     },
     "metadata": {
      "needs_background": "light"
     },
     "output_type": "display_data"
    },
    {
     "name": "stdout",
     "output_type": "stream",
     "text": [
      "Area under ROC Curve: 0.83502\n",
      "Area under PR Curve: 0.81061\n",
      "Accuracy: 0.74744\n",
      "root\n",
      " |-- prediction: double (nullable = false)\n",
      " |-- Exited: integer (nullable = true)\n",
      " |-- CreditScore: double (nullable = true)\n",
      " |-- Gender: double (nullable = true)\n",
      " |-- Age: double (nullable = true)\n",
      " |-- Tenure: double (nullable = true)\n",
      " |-- Geography: double (nullable = true)\n",
      " |-- Balance: double (nullable = true)\n",
      " |-- NumOfProducts: double (nullable = true)\n",
      " |-- HasCrCard: double (nullable = true)\n",
      " |-- IsActiveMember: double (nullable = true)\n",
      " |-- EstimatedSalary: double (nullable = true)\n",
      "\n"
     ]
    }
   ],
   "source": [
    "# Area under ROC\n",
    "trainingSummary = cvrf_model.bestModel.summary\n",
    "roc = trainingSummary.roc.toPandas()\n",
    "plt.plot(roc['FPR'],roc['TPR'])\n",
    "plt.ylabel('False Positive Rate')\n",
    "plt.xlabel('True Positive Rate')\n",
    "plt.title('ROC Curve')\n",
    "plt.show()\n",
    "\n",
    "# Precision and recall.\n",
    "pr = trainingSummary.pr.toPandas()\n",
    "plt.plot(pr['recall'],pr['precision'])\n",
    "plt.ylabel('Precision')\n",
    "plt.xlabel('Recall')\n",
    "plt.show()\n",
    "\n",
    "# Crea graficas y analisis de los resultados\n",
    "cvrf_auroc, cvrf_auprc, cvrf_acc = display_metrics(cvrf_model)\n",
    "\n",
    "# Guardar modelo en base de datos\n",
    "save_model(\"modelo2\", cvrf_model)"
   ]
  },
  {
   "cell_type": "markdown",
   "metadata": {},
   "source": [
    "## Evaluación y almacenado de modelo 3"
   ]
  },
  {
   "cell_type": "code",
   "execution_count": 18,
   "metadata": {},
   "outputs": [
    {
     "name": "stdout",
     "output_type": "stream",
     "text": [
      "Area under ROC Curve: 0.61900\n",
      "Area under PR Curve: 0.62007\n",
      "Accuracy: 0.74458\n",
      "root\n",
      " |-- prediction: double (nullable = false)\n",
      " |-- Exited: integer (nullable = true)\n",
      " |-- CreditScore: double (nullable = true)\n",
      " |-- Gender: double (nullable = true)\n",
      " |-- Age: double (nullable = true)\n",
      " |-- Tenure: double (nullable = true)\n",
      " |-- Geography: double (nullable = true)\n",
      " |-- Balance: double (nullable = true)\n",
      " |-- NumOfProducts: double (nullable = true)\n",
      " |-- HasCrCard: double (nullable = true)\n",
      " |-- IsActiveMember: double (nullable = true)\n",
      " |-- EstimatedSalary: double (nullable = true)\n",
      "\n"
     ]
    }
   ],
   "source": [
    "# Crea graficas y analisis de los resultados\n",
    "cvdt_auroc, cvdt_auprc, cvdt_acc = display_metrics(cvdt_model)\n",
    "\n",
    "# Guardar modelo en base de datos\n",
    "save_model(\"modelo3\", cvdt_model)"
   ]
  },
  {
   "cell_type": "markdown",
   "metadata": {},
   "source": [
    "## Analisis de resultados"
   ]
  },
  {
   "cell_type": "code",
   "execution_count": 19,
   "metadata": {},
   "outputs": [
    {
     "data": {
      "text/plain": [
       "Text(0, 0.5, 'Area under ROC Curve')"
      ]
     },
     "execution_count": 19,
     "metadata": {},
     "output_type": "execute_result"
    },
    {
     "data": {
      "image/png": "[encoded data removed]",
      "text/plain": [
       "<Figure size 936x504 with 1 Axes>"
      ]
     },
     "metadata": {
      "needs_background": "light"
     },
     "output_type": "display_data"
    }
   ],
   "source": [
    "import pandas as pd \n",
    "\n",
    "names = ['Logistic Regression','Random Forest','Decision Tree']\n",
    "\n",
    "results = pd.Series([cvlr_auroc , cvrf_auroc, cvdt_auroc])\n",
    "ax = results.plot(kind = 'bar',figsize=(13,7),color=['black','gray','brown'])\n",
    "ax.set_title('Comparision of Models',fontsize=15)\n",
    "ax.set_yticks([0.0,0.1,0.2,0.3,0.4,0.5,0.6,0.7,0.8,0.9])\n",
    "ax.set_xticklabels(names ,fontsize=15,rotation = 45)\n",
    "ax.set_xlabel(\"Models\",fontsize=15)\n",
    "ax.set_ylabel(\"Area under ROC Curve\",fontsize=15)"
   ]
  },
  {
   "cell_type": "code",
   "execution_count": 20,
   "metadata": {},
   "outputs": [
    {
     "data": {
      "text/plain": [
       "Text(0, 0.5, 'Area under PR Curve')"
      ]
     },
     "execution_count": 20,
     "metadata": {},
     "output_type": "execute_result"
    },
    {
     "data": {
      "image/png": "[encoded data removed]",
      "text/plain": [
       "<Figure size 936x504 with 1 Axes>"
      ]
     },
     "metadata": {
      "needs_background": "light"
     },
     "output_type": "display_data"
    }
   ],
   "source": [
    "import pandas as pd \n",
    "\n",
    "names = ['Logistic Regression','Random Forest','Decision Tree']\n",
    "\n",
    "results = pd.Series([cvlr_auprc , cvrf_auprc, cvdt_auprc])\n",
    "ax = results.plot(kind = 'bar',figsize=(13,7),color=['black','gray','brown'])\n",
    "ax.set_title('Comparision of Models',fontsize=15)\n",
    "ax.set_yticks([0.0,0.1,0.2,0.3,0.4,0.5,0.6,0.7,0.8,0.9])\n",
    "ax.set_xticklabels(names ,fontsize=15,rotation = 45)\n",
    "ax.set_xlabel(\"Models\",fontsize=15)\n",
    "ax.set_ylabel(\"Area under PR Curve\",fontsize=15)"
   ]
  },
  {
   "cell_type": "code",
   "execution_count": 21,
   "metadata": {},
   "outputs": [
    {
     "data": {
      "text/plain": [
       "Text(0, 0.5, 'Accuracy')"
      ]
     },
     "execution_count": 21,
     "metadata": {},
     "output_type": "execute_result"
    },
    {
     "data": {
      "image/png": "[encoded data removed]",
      "text/plain": [
       "<Figure size 936x504 with 1 Axes>"
      ]
     },
     "metadata": {
      "needs_background": "light"
     },
     "output_type": "display_data"
    }
   ],
   "source": [
    "import pandas as pd \n",
    "\n",
    "names = ['Logistic Regression','Random Forest','Decision Tree']\n",
    "\n",
    "results = pd.Series([cvlr_acc , cvrf_acc, cvdt_acc])\n",
    "ax = results.plot(kind = 'bar',figsize=(13,7),color=['black','gray','brown'])\n",
    "ax.set_title('Comparision of Models',fontsize=15)\n",
    "ax.set_yticks([0.0,0.1,0.2,0.3,0.4,0.5,0.6,0.7,0.8,0.9])\n",
    "ax.set_xticklabels(names ,fontsize=15,rotation = 45)\n",
    "ax.set_xlabel(\"Models\",fontsize=15)\n",
    "ax.set_ylabel(\"Accuracy\",fontsize=15)"
   ]
  },
  {
   "cell_type": "markdown",
   "metadata": {},
   "source": [
    "# Modelo 1\n",
    "En el primer modelo se utilizó una regresión logística para predecir el valor de la variable objetivo. Si se analizan los pesos se puede el feature 'CreditScore' tiene un peso muy alto, por lo que se puede decir que es una variable importante para predecir el valor de la variable objetivo. La grafica de precision-recall tipica de un modelo de regresión logística. \n",
    "\n",
    "# Modelo 2\n",
    "En el segundo modelo se utilizó un Random Forest para predecir el valor de la variable objetivo. Con este modelo se obtuvieron los mejores resultados. En este casio la grafica de precision-recall del modelo 2 muestra que el modelo 2 tiene una precision de 0.9 y un recall de 0.9.\n",
    "\n",
    "# Modelo 3 \n",
    "Se creo un modelo adicional, just for fun :). En el tercer modelo se utilizó un Decision Tree para predecir el valor de la variable objetivo. Con este modelo se obtuvieron los peores resultados.\n",
    "\n",
    "# Conclusiones\n",
    "\n",
    "Al realizar la comparacion de los modelos, se puede observar que el modelo 3 es el mejor, el modelo 1 es el segundo mejor y el modelo 3 es el tercero mejor. Para este caso el modelo de Random Forest dio los mejores resultados. En todos los casos se realizo un modelo de k-fold cross validation, para obtener una mejor precisión. En la iteracion de los folds, se esta imprimiendo el AUROC y es interesante observar cambia el valor de AUROC en cada iteración. "
   ]
  }
 ],
 "metadata": {
  "kernelspec": {
   "display_name": "Python 3 (ipykernel)",
   "language": "python",
   "name": "python3"
  },
  "language_info": {
   "codemirror_mode": {
    "name": "ipython",
    "version": 3
   },
   "file_extension": ".py",
   "mimetype": "text/x-python",
   "name": "python",
   "nbconvert_exporter": "python",
   "pygments_lexer": "ipython3",
   "version": "3.7.10"
  }
 },
 "nbformat": 4,
 "nbformat_minor": 2
}
