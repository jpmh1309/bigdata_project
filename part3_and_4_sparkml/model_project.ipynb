{
 "cells": [
  {
   "cell_type": "markdown",
   "metadata": {},
   "source": [
    "# Módulo # 4 - Big Data\n",
    "\n",
    "## Final Project\n",
    "## Autor: Jose Martinez"
   ]
  },
  {
   "cell_type": "markdown",
   "metadata": {},
   "source": [
    "# Input Data\n",
    "\n",
    "## Probability of winning an Oscar in a movie based on the IMDb and Rotten Tomatoes ratings\n",
    "\n",
    "### Features Oscar Data Set\n",
    "\n",
    "- `year_film`: year of the film (integer)\n",
    "- `year_ceremony`: year of the ceremony (integer)\n",
    "- `ceremony_name`: name of the ceremony (string)\n",
    "- `category`: category of the ceremony (string)\n",
    "- `name`: name of the film (string)\n",
    "- `film`: name of the film (string)\n",
    "- `winner`: winner of the ceremony (string)\n",
    "\n",
    "### Features IMDB Data Set\n",
    "\n",
    "- `imdb_title_id`: IMDB title id (string)\n",
    "- `title`: title of the movie (string)\n",
    "- `original_title`: original title of the movie (string)\n",
    "- `year`: year of the movie (integer)\n",
    "- `date_published`: date of publication of the movie (string)\n",
    "- `genre`: genre of the movie (string)\n",
    "- `duration`: duration of the movie (integer)\n",
    "- `country`: country of origin of the movie (string)\n",
    "- `language`: language of the movie (string)\n",
    "- `director`: director of the movie (string)\n",
    "- `writer`: writer of the movie (string)\n",
    "- `production_company`: production company of the movie (string)\n",
    "- `actors`: actors of the movie (string)\n",
    "- `avg_vote`: average vote of the movie (float)\n",
    "- `votes`: number of votes of the movie (integer)\n",
    "- `budget`: budget of the movie (float)\n",
    "- `usa_gross_income`: gross income of the movie in USA (float)\n",
    "- `worlwide_gross_income`: gross income of the movie in the world (float)\n",
    "- `metascore`: metascore of the movie (integer)\n",
    "- `reviews_from_users`: number of reviews from users of the movie (float)\n",
    "- `reviews_from_critics`: number of reviews from critics of the movie (float)\n",
    "\n",
    "### Features Rotten Tomatoes Data Set\n",
    "\n",
    "- `rotten_tomatoes_link`: link to the Rotten Tomatoes page of the movie (string)\n",
    "- `movie_title`: title of the movie (string)\n",
    "- `movie_info`: information about the movie (string)\n",
    "- `critics_consensus`: critics consensus about the movie (string)\n",
    "- `content_rating`: content rating of the movie (string)\n",
    "- `genres`: list of genres of the movie (string)\n",
    "- `directors`: list of directors of the movie (string)\n",
    "- `authors`: list of authors of the movie (string)\n",
    "- `actors_rt`: list of actors of the movie (string)\n",
    "- `original_release_date`: original release date of the movie (string)\n",
    "- `streaming_release_date`: streaming release date of the movie (string)\n",
    "- `runtime`: runtime of the movie (integer)\n",
    "- `production_company_rt`: production company of the movie (string)\n",
    "- `tomatometer_status`: status of the movie on the tomatometer (string)\n",
    "- `tomatometer_rating`: rating of the movie on the tomatometer (integer)\n",
    "- `tomatometer_count`: number of votes of the movie on the tomatometer (integer)\n",
    "- `audience_status`: status of the movie on the audience (string)\n",
    "- `audience_rating`: rating of the movie on the audience (integer)\n",
    "- `audience_count`: number of votes of the movie on the audience (integer)\n",
    "- `tomatometer_top_critics_count`: number of top critics of the movie on the tomatometer (integer)\n",
    "- `tomatometer_fresh_critics_count`: number of fresh critics of the movie on the tomatometer (integer)\n",
    "- `tomatometer_rotten_critics_count`: number of rotten critics of the movie on the tomatometer (integer\n",
    "\n",
    "### Target Variable\n",
    "\n",
    "- `winner`: winner of the ceremony (string)"
   ]
  },
  {
   "cell_type": "code",
   "execution_count": 1,
   "metadata": {},
   "outputs": [
    {
     "name": "stderr",
     "output_type": "stream",
     "text": [
      "WARNING: An illegal reflective access operation has occurred\n",
      "WARNING: Illegal reflective access by org.apache.spark.unsafe.Platform (file:/usr/lib/python3.7/site-packages/pyspark/jars/spark-unsafe_2.12-3.2.0.jar) to constructor java.nio.DirectByteBuffer(long,int)\n",
      "WARNING: Please consider reporting this to the maintainers of org.apache.spark.unsafe.Platform\n",
      "WARNING: Use --illegal-access=warn to enable warnings of further illegal reflective access operations\n",
      "WARNING: All illegal access operations will be denied in a future release\n",
      "Using Spark's default log4j profile: org/apache/spark/log4j-defaults.properties\n",
      "Setting default log level to \"WARN\".\n",
      "To adjust logging level use sc.setLogLevel(newLevel). For SparkR, use setLogLevel(newLevel).\n",
      "21/11/15 04:28:42 WARN NativeCodeLoader: Unable to load native-hadoop library for your platform... using builtin-java classes where applicable\n"
     ]
    }
   ],
   "source": [
    "import findspark\n",
    "findspark.init('/usr/lib/python3.7/site-packages/pyspark')\n",
    "from pyspark.sql import SparkSession\n",
    "\n",
    "spark = SparkSession \\\n",
    "    .builder \\\n",
    "    .appName(\"Bigdata: Model\") \\\n",
    "    .config(\"spark.driver.extraClassPath\", \"postgresql-42.2.14.jar\") \\\n",
    "    .config(\"spark.executor.extraClassPath\", \"postgresql-42.2.14.jar\") \\\n",
    "    .getOrCreate()"
   ]
  },
  {
   "cell_type": "markdown",
   "metadata": {},
   "source": [
    "# Read data from DB"
   ]
  },
  {
   "cell_type": "code",
   "execution_count": 2,
   "metadata": {},
   "outputs": [
    {
     "name": "stderr",
     "output_type": "stream",
     "text": [
      "                                                                                \r"
     ]
    },
    {
     "name": "stdout",
     "output_type": "stream",
     "text": [
      "+--------------+------------------+------------------+------------------+--------------------------+------------------+------------------+------------------+--------------------+-------------------+--------------------+------------------+------------------+------------------+--------------------+-----------------------------+-------------------------------+--------------------------------+\n",
      "|winner_indexed|          duration|  director_indexed|    writer_indexed|production_company_indexed|    actors_indexed|     genre_indexed|          avg_vote|               votes| reviews_from_users|reviews_from_critics|tomatometer_rating| tomatometer_count|   audience_rating|      audience_count|tomatometer_top_critics_count|tomatometer_fresh_critics_count|tomatometer_rotten_critics_count|\n",
      "+--------------+------------------+------------------+------------------+--------------------------+------------------+------------------+------------------+--------------------+-------------------+--------------------+------------------+------------------+------------------+--------------------+-----------------------------+-------------------------------+--------------------------------+\n",
      "|           0.0|3.3354349539295165| 3.733064447469326|2.0485472058238683|        1.8310991536273447| 3.148144132741801|3.1693925301054295| 11.65265439237661|  1.0456730251886122| 0.3368391643687347|  1.2214328426775918| 5.701371753176095| 1.308860363753365| 6.675052997032613| 0.13700409071209504|            1.907996414112114|             1.2652814145212814|              0.7140695210839944|\n",
      "|           0.0| 4.713114608813447|0.5902708741725002|0.4655789104145155|        0.1017277307570747|0.3645219522122085|1.9469125542076209|10.098967140059727| 0.17270517721363987| 0.4153564521003745|  1.0482114577160424| 5.111574675261327| 1.448100827982446| 5.709985093847174| 0.09084670358447232|            2.341631962773958|              1.257566283944932|              1.3388803520324895|\n",
      "|           0.0| 4.713114608813447|0.5902708741725002|0.4655789104145155|        0.1017277307570747|0.3645219522122085|1.9469125542076209|10.098967140059727| 0.17270517721363987| 0.4153564521003745|  1.0482114577160424| 5.111574675261327| 1.448100827982446| 5.709985093847174| 0.09084670358447232|            2.341631962773958|              1.257566283944932|              1.3388803520324895|\n",
      "|           0.0| 4.713114608813447|0.5902708741725002|0.4655789104145155|        0.1017277307570747|0.3645219522122085|1.9469125542076209|10.098967140059727| 0.17270517721363987| 0.4153564521003745|  1.0482114577160424| 5.111574675261327| 1.448100827982446| 5.709985093847174| 0.09084670358447232|            2.341631962773958|              1.257566283944932|              1.3388803520324895|\n",
      "|           0.0| 4.713114608813447|0.5902708741725002|0.4655789104145155|        0.1017277307570747|0.3645219522122085|1.9469125542076209|10.098967140059727| 0.17270517721363987| 0.4153564521003745|  1.0482114577160424| 5.111574675261327| 1.448100827982446| 5.709985093847174| 0.09084670358447232|            2.341631962773958|              1.257566283944932|              1.3388803520324895|\n",
      "|           0.0| 4.713114608813447|0.5902708741725002|0.4655789104145155|        0.1017277307570747|0.3645219522122085|1.9469125542076209|10.098967140059727| 0.17270517721363987| 0.4153564521003745|  1.0482114577160424| 5.111574675261327| 1.448100827982446| 5.709985093847174| 0.09084670358447232|            2.341631962773958|              1.257566283944932|              1.3388803520324895|\n",
      "|           0.0| 4.713114608813447|0.5902708741725002|0.4655789104145155|        0.1017277307570747|0.3645219522122085|1.9469125542076209|10.098967140059727| 0.17270517721363987| 0.4153564521003745|  1.0482114577160424| 5.111574675261327| 1.448100827982446| 5.709985093847174| 0.09084670358447232|            2.341631962773958|              1.257566283944932|              1.3388803520324895|\n",
      "|           0.0|3.2991802261694128| 3.318279508861623|3.0611813359754394|        3.2298554515371216|  3.47952772566199|0.6791555421654492|11.497285815316085|0.056493469212888565|0.12641283324794006|  0.4308326754171869| 5.832437770490488| 0.717088390779769| 6.996742298094425|0.006409935478176383|           1.4743608654502698|             0.7097920130241334|             0.32728186383016405|\n",
      "|           0.0|3.6617275037704475|1.4996070857355412|1.2105051670777403|        0.3306151249604928|1.0272891380525877|0.2263851807218164|   12.118760864414|  1.1029784316341547| 0.7474845792052108|  1.1281597892367574| 5.963503787804881|1.5177210600969868| 7.318431599156238| 0.09997650213573285|            2.341631962773958|             1.5275958541171566|               0.595057934236662|\n",
      "|           0.0|3.6617275037704475|1.4996070857355412|1.2105051670777403|        0.3306151249604928|1.0272891380525877|0.2263851807218164|   12.118760864414|  1.1029784316341547| 0.7474845792052108|  1.1281597892367574| 5.963503787804881|1.5177210600969868| 7.318431599156238| 0.09997650213573285|            2.341631962773958|             1.5275958541171566|               0.595057934236662|\n",
      "|           0.0|5.1844260696947915|0.5583643404334462|0.5121368014559671|       0.05086386537853735| 0.486029269616278|               0.0|11.497285815316085|  0.7284455738243292| 0.7569066537330076|  1.1503676591036227| 4.521777597346558|1.3924046422908136|6.1925190454398935| 0.08831596696259746|           2.1681777433092204|                1.0646880195362|               1.844679596133652|\n",
      "|           0.0|5.1844260696947915|0.5583643404334462|0.5121368014559671|       0.05086386537853735| 0.486029269616278|               0.0|11.497285815316085|  0.7284455738243292| 0.7569066537330076|  1.1503676591036227| 4.521777597346558|1.3924046422908136|6.1925190454398935| 0.08831596696259746|           2.1681777433092204|                1.0646880195362|               1.844679596133652|\n",
      "|           0.0|5.1844260696947915|0.5583643404334462|0.5121368014559671|       0.05086386537853735| 0.486029269616278|               0.0|11.497285815316085|  0.7284455738243292| 0.7569066537330076|  1.1503676591036227| 4.521777597346558|1.3924046422908136|6.1925190454398935| 0.08831596696259746|           2.1681777433092204|                1.0646880195362|               1.844679596133652|\n",
      "|           0.0|5.1844260696947915|0.5583643404334462|0.5121368014559671|       0.05086386537853735| 0.486029269616278|               0.0|11.497285815316085|  0.7284455738243292| 0.7569066537330076|  1.1503676591036227| 4.521777597346558|1.3924046422908136|6.1925190454398935| 0.08831596696259746|           2.1681777433092204|                1.0646880195362|               1.844679596133652|\n",
      "|           0.0|5.1844260696947915|0.5583643404334462|0.5121368014559671|       0.05086386537853735| 0.486029269616278|               0.0|11.497285815316085|  0.7284455738243292| 0.7569066537330076|  1.1503676591036227| 4.521777597346558|1.3924046422908136|6.1925190454398935| 0.08831596696259746|           2.1681777433092204|                1.0646880195362|               1.844679596133652|\n",
      "|           0.0|5.1844260696947915|0.5583643404334462|0.5121368014559671|       0.05086386537853735| 0.486029269616278|               0.0|11.497285815316085|  0.7284455738243292| 0.7569066537330076|  1.1503676591036227| 4.521777597346558|1.3924046422908136|6.1925190454398935| 0.08831596696259746|           2.1681777433092204|                1.0646880195362|               1.844679596133652|\n",
      "|           0.0| 4.133038964651792|0.5743176073029732|2.5839629528005608|       0.15259159613561205| 2.695253222417542| 0.814986650598539|11.808022969437134|  0.6272521513659358|0.44440784856108123|  1.1859002508906074|  6.16010281377647|1.2531641780617322| 6.916319972828972| 0.04912980891463612|           1.8212693043797452|             1.3115721979793769|               0.297528967118331|\n",
      "|           0.0| 5.982030080417068| 2.807774969036758| 3.980699684044107|        0.1780235288248807| 3.921372516222243|1.3583110843308983|10.254335717120252|  0.3012210535293559|  0.376882981111871|  1.0704193275829077|3.6043154761458074| 1.545569152942803| 5.227451142254456| 0.06121189945736055|            2.515086182238696|             0.9412459303146117|                2.97528967118331|\n",
      "|           0.0|  3.48045386496993|1.4677005519964872| 1.117389384994837|        0.3306151249604928|1.1267042159286444|0.2263851807218164|11.497285815316085|  1.2354620766905753| 0.7286404301496172|  1.7055644057752555|  6.16010281377647|1.5037970136740788| 7.077164623359878|  0.1286155835853145|           1.8646328592459296|              1.566171506998903|             0.38678765725383024|\n",
      "|           0.0|  3.48045386496993|1.4677005519964872| 1.117389384994837|        0.3306151249604928|1.1267042159286444|0.2263851807218164|11.497285815316085|  1.2354620766905753| 0.7286404301496172|  1.7055644057752555|  6.16010281377647|1.5037970136740788| 7.077164623359878|  0.1286155835853145|           1.8646328592459296|              1.566171506998903|             0.38678765725383024|\n",
      "+--------------+------------------+------------------+------------------+--------------------------+------------------+------------------+------------------+--------------------+-------------------+--------------------+------------------+------------------+------------------+--------------------+-----------------------------+-------------------------------+--------------------------------+\n",
      "only showing top 20 rows\n",
      "\n"
     ]
    },
    {
     "name": "stderr",
     "output_type": "stream",
     "text": [
      "21/11/15 04:29:00 WARN package: Truncated the string representation of a plan since it was too large. This behavior can be adjusted by setting 'spark.sql.debug.maxToStringFields'.\n"
     ]
    },
    {
     "name": "stdout",
     "output_type": "stream",
     "text": [
      "+--------------------+--------------+\n",
      "|            Features|winner_indexed|\n",
      "+--------------------+--------------+\n",
      "|[3.33543495392951...|           0.0|\n",
      "|[4.71311460881344...|           0.0|\n",
      "|[4.71311460881344...|           0.0|\n",
      "|[4.71311460881344...|           0.0|\n",
      "|[4.71311460881344...|           0.0|\n",
      "|[4.71311460881344...|           0.0|\n",
      "|[4.71311460881344...|           0.0|\n",
      "|[3.29918022616941...|           0.0|\n",
      "|[3.66172750377044...|           0.0|\n",
      "|[3.66172750377044...|           0.0|\n",
      "|[5.18442606969479...|           0.0|\n",
      "|[5.18442606969479...|           0.0|\n",
      "|[5.18442606969479...|           0.0|\n",
      "|[5.18442606969479...|           0.0|\n",
      "|[5.18442606969479...|           0.0|\n",
      "|[5.18442606969479...|           0.0|\n",
      "|[4.13303896465179...|           0.0|\n",
      "|[5.98203008041706...|           0.0|\n",
      "|[3.48045386496993...|           0.0|\n",
      "|[3.48045386496993...|           0.0|\n",
      "+--------------------+--------------+\n",
      "only showing top 20 rows\n",
      "\n"
     ]
    }
   ],
   "source": [
    "from pyspark.ml.feature import VectorAssembler\n",
    "\n",
    "\n",
    "columns_features = [\n",
    "    \"duration\", \"director_indexed\", \"writer_indexed\", \n",
    "    \"production_company_indexed\", \"actors_indexed\", \"genre_indexed\", \n",
    "    \"avg_vote\", \"votes\", \"reviews_from_users\", \"reviews_from_critics\", \n",
    "    \"tomatometer_rating\", \"tomatometer_count\", \"audience_rating\", \n",
    "    \"audience_count\", \"tomatometer_top_critics_count\", \n",
    "    \"tomatometer_fresh_critics_count\", \"tomatometer_rotten_critics_count\"\n",
    "]\n",
    "\n",
    "# Reading single DataFrame in Spark by retrieving all rows from a DB table.\n",
    "df = spark \\\n",
    "    .read \\\n",
    "    .format(\"jdbc\") \\\n",
    "    .option(\"url\", \"jdbc:postgresql://172.17.0.1:5433/postgres\") \\\n",
    "    .option(\"user\", \"postgres\") \\\n",
    "    .option(\"password\", \"testPassword\") \\\n",
    "    .option(\"dbtable\", \"df_clean\") \\\n",
    "    .load()\n",
    "\n",
    "df.show()\n",
    "\n",
    "assembler = VectorAssembler(\n",
    "    inputCols=columns_features,\n",
    "    outputCol='Features')\n",
    "\n",
    "df = assembler.transform(df)\n",
    "df = df.select(['Features', 'winner_indexed'])\n",
    "df.show()"
   ]
  },
  {
   "cell_type": "markdown",
   "metadata": {},
   "source": [
    "# Training the Model"
   ]
  },
  {
   "cell_type": "markdown",
   "metadata": {},
   "source": [
    "## Split data into training and testing sets"
   ]
  },
  {
   "cell_type": "code",
   "execution_count": 3,
   "metadata": {},
   "outputs": [
    {
     "name": "stdout",
     "output_type": "stream",
     "text": [
      "1497\n",
      "1036\n",
      "461\n"
     ]
    },
    {
     "name": "stderr",
     "output_type": "stream",
     "text": [
      "                                                                                \r"
     ]
    }
   ],
   "source": [
    "# Split the data into training and test sets (70 % training, 30 % test)\n",
    "training_df, test_df = df.randomSplit([0.7, 0.3])\n",
    "\n",
    "# Print the number of observations in the training (label) and test (label) datasets\n",
    "print(df.count())\n",
    "print(training_df.count())\n",
    "print(test_df.count())"
   ]
  },
  {
   "cell_type": "markdown",
   "metadata": {},
   "source": [
    "## Use the K-fold cross validation"
   ]
  },
  {
   "cell_type": "code",
   "execution_count": 4,
   "metadata": {},
   "outputs": [],
   "source": [
    "# Codigo tomado de https://stackoverflow.com/questions/53600615/cross-validation-metrics-with-pyspark\n",
    "from pyspark.ml.tuning import CrossValidator, CrossValidatorModel\n",
    "from pyspark.mllib.evaluation import BinaryClassificationMetrics\n",
    "from pyspark.sql.functions import rand\n",
    "import numpy as np\n",
    "import collections\n",
    "\n",
    "TestResult = collections.namedtuple(\"TestResult\", [\"params\", \"metrics\"])\n",
    "\n",
    "class CrossValidatorVerbose(CrossValidator):\n",
    "\n",
    "    def _fit(self, dataset):\n",
    "        folds = []\n",
    "        est = self.getOrDefault(self.estimator)\n",
    "        epm = self.getOrDefault(self.estimatorParamMaps)\n",
    "        numModels = len(epm)\n",
    "\n",
    "        eva = self.getOrDefault(self.evaluator)\n",
    "        metricName = eva.getMetricName()\n",
    "        nFolds = self.getOrDefault(self.numFolds)\n",
    "        seed = self.getOrDefault(self.seed)\n",
    "        h = 1.0 / nFolds\n",
    "\n",
    "        randCol = self.uid + \"_rand\"\n",
    "        df = dataset.select(\"*\", rand(seed).alias(randCol))\n",
    "        metrics = [0.0] * numModels\n",
    "\n",
    "        for i in range(nFolds):\n",
    "            folds.append([])\n",
    "            foldNum = i + 1\n",
    "            print(\"Comparing models on fold %d\" % foldNum)\n",
    "\n",
    "            validateLB = i * h\n",
    "            validateUB = (i + 1) * h\n",
    "            condition = (df[randCol] >= validateLB) & (df[randCol] < validateUB)\n",
    "            validation = df.filter(condition)\n",
    "            train = df.filter(~condition)\n",
    "\n",
    "            for j in range(numModels):\n",
    "                paramMap = epm[j]\n",
    "                model = est.fit(train, paramMap)\n",
    "                # TODO: duplicate evaluator to take extra params from input\n",
    "                prediction = model.transform(validation, paramMap)\n",
    "                metric = eva.evaluate(prediction)\n",
    "                metrics[j] += metric\n",
    "\n",
    "                avgSoFar = metrics[j] / foldNum\n",
    "                print(\"params: %s\\t%s: %f\\tavg: %f\" % (\n",
    "                    {param.name: val for (param, val) in paramMap.items()},\n",
    "                    metricName, metric, avgSoFar))\n",
    "                \n",
    "                predictionLabels = prediction.select(\"prediction\", \"winner_indexed\")\n",
    "                allMetrics = BinaryClassificationMetrics(predictionLabels.rdd)\n",
    "                folds[i].append(TestResult(paramMap.items(), allMetrics))\n",
    "                \n",
    "\n",
    "        if eva.isLargerBetter():\n",
    "            bestIndex = np.argmax(metrics)\n",
    "        else:\n",
    "            bestIndex = np.argmin(metrics)\n",
    "\n",
    "        bestParams = epm[bestIndex]\n",
    "        bestModel = est.fit(dataset, bestParams)\n",
    "        avgMetrics = [m / nFolds for m in metrics]\n",
    "        bestAvg = avgMetrics[bestIndex]\n",
    "        print(\"Best model:\\nparams: %s\\t%s: %f\" % (\n",
    "            {param.name: val for (param, val) in bestParams.items()},\n",
    "            metricName, bestAvg))\n",
    "\n",
    "        return self._copyValues(CrossValidatorModel(bestModel, avgMetrics)), folds"
   ]
  },
  {
   "cell_type": "markdown",
   "metadata": {},
   "source": [
    "## Modelo 1: Regresión Logística "
   ]
  },
  {
   "cell_type": "code",
   "execution_count": 5,
   "metadata": {},
   "outputs": [
    {
     "name": "stdout",
     "output_type": "stream",
     "text": [
      "+--------------------+--------------+\n",
      "|            Features|winner_indexed|\n",
      "+--------------------+--------------+\n",
      "|[2.32030257664662...|           1.0|\n",
      "|[2.32030257664662...|           1.0|\n",
      "|[2.53783094320724...|           0.0|\n",
      "|[2.53783094320724...|           0.0|\n",
      "|[2.93663294856837...|           0.0|\n",
      "|[2.93663294856837...|           0.0|\n",
      "|[2.93663294856837...|           0.0|\n",
      "|[2.93663294856837...|           1.0|\n",
      "|[2.93663294856837...|           1.0|\n",
      "|[2.93663294856837...|           1.0|\n",
      "|[2.93663294856837...|           1.0|\n",
      "|[3.00914240408858...|           0.0|\n",
      "|[3.00914240408858...|           0.0|\n",
      "|[3.04539713184868...|           0.0|\n",
      "|[3.04539713184868...|           0.0|\n",
      "|[3.11790658736889...|           1.0|\n",
      "|[3.15416131512899...|           0.0|\n",
      "|[3.15416131512899...|           0.0|\n",
      "|[3.15416131512899...|           0.0|\n",
      "|[3.19041604288910...|           0.0|\n",
      "+--------------------+--------------+\n",
      "only showing top 20 rows\n",
      "\n",
      "Comparing models on fold 1\n"
     ]
    },
    {
     "name": "stderr",
     "output_type": "stream",
     "text": [
      "21/11/15 04:29:10 WARN InstanceBuilder$NativeBLAS: Failed to load implementation from:dev.ludovic.netlib.blas.JNIBLAS\n",
      "21/11/15 04:29:10 WARN InstanceBuilder$NativeBLAS: Failed to load implementation from:dev.ludovic.netlib.blas.ForeignLinkerBLAS\n",
      "                                                                                \r"
     ]
    },
    {
     "name": "stdout",
     "output_type": "stream",
     "text": [
      "params: {'maxIter': 10}\tareaUnderROC: 0.632892\tavg: 0.632892\n"
     ]
    },
    {
     "name": "stderr",
     "output_type": "stream",
     "text": [
      "/usr/lib/python3.7/site-packages/pyspark/sql/context.py:127: FutureWarning: Deprecated in 3.0.0. Use SparkSession.builder.getOrCreate() instead.\n",
      "  FutureWarning\n",
      "                                                                                \r"
     ]
    },
    {
     "name": "stdout",
     "output_type": "stream",
     "text": [
      "Comparing models on fold 2\n",
      "params: {'maxIter': 10}\tareaUnderROC: 0.619614\tavg: 0.626253\n",
      "Comparing models on fold 3\n",
      "params: {'maxIter': 10}\tareaUnderROC: 0.683265\tavg: 0.645257\n",
      "Comparing models on fold 4\n",
      "params: {'maxIter': 10}\tareaUnderROC: 0.629458\tavg: 0.641307\n",
      "Comparing models on fold 5\n",
      "params: {'maxIter': 10}\tareaUnderROC: 0.665884\tavg: 0.646223\n",
      "Best model:\n",
      "params: {'maxIter': 10}\tareaUnderROC: 0.646223\n"
     ]
    }
   ],
   "source": [
    "from pyspark.ml.evaluation import BinaryClassificationEvaluator\n",
    "from pyspark.ml.classification import LogisticRegression\n",
    "from pyspark.ml.tuning import ParamGridBuilder\n",
    "\n",
    "df = training_df.select('Features', 'winner_indexed')\n",
    "df.show()\n",
    "\n",
    "lr = LogisticRegression(featuresCol='Features', labelCol='winner_indexed', maxIter=10)\n",
    "grid = ParamGridBuilder().addGrid(param=lr.maxIter, values=[10]).build()\n",
    "\n",
    "# Implementa k-Folds e imprime informacion por cada iteracion\n",
    "cv = CrossValidatorVerbose(estimator=lr,\n",
    "                           estimatorParamMaps=grid,\n",
    "                           evaluator=BinaryClassificationEvaluator(labelCol='winner_indexed'),\n",
    "                           numFolds=5)\n",
    "\n",
    "cvlr_model, lr_folds = cv.fit(df)"
   ]
  },
  {
   "cell_type": "markdown",
   "metadata": {},
   "source": [
    "## Modelo 2: Random Forest"
   ]
  },
  {
   "cell_type": "code",
   "execution_count": 6,
   "metadata": {},
   "outputs": [
    {
     "name": "stdout",
     "output_type": "stream",
     "text": [
      "+--------------------+--------------+\n",
      "|            Features|winner_indexed|\n",
      "+--------------------+--------------+\n",
      "|[2.32030257664662...|           1.0|\n",
      "|[2.32030257664662...|           1.0|\n",
      "|[2.53783094320724...|           0.0|\n",
      "|[2.53783094320724...|           0.0|\n",
      "|[2.93663294856837...|           0.0|\n",
      "|[2.93663294856837...|           0.0|\n",
      "|[2.93663294856837...|           0.0|\n",
      "|[2.93663294856837...|           1.0|\n",
      "|[2.93663294856837...|           1.0|\n",
      "|[2.93663294856837...|           1.0|\n",
      "|[2.93663294856837...|           1.0|\n",
      "|[3.00914240408858...|           0.0|\n",
      "|[3.00914240408858...|           0.0|\n",
      "|[3.04539713184868...|           0.0|\n",
      "|[3.04539713184868...|           0.0|\n",
      "|[3.11790658736889...|           1.0|\n",
      "|[3.15416131512899...|           0.0|\n",
      "|[3.15416131512899...|           0.0|\n",
      "|[3.15416131512899...|           0.0|\n",
      "|[3.19041604288910...|           0.0|\n",
      "+--------------------+--------------+\n",
      "only showing top 20 rows\n",
      "\n",
      "Comparing models on fold 1\n",
      "params: {'maxDepth': 4}\tareaUnderROC: 0.659921\tavg: 0.659921\n",
      "Comparing models on fold 2\n",
      "params: {'maxDepth': 4}\tareaUnderROC: 0.693409\tavg: 0.676665\n",
      "Comparing models on fold 3\n",
      "params: {'maxDepth': 4}\tareaUnderROC: 0.725743\tavg: 0.693024\n",
      "Comparing models on fold 4\n",
      "params: {'maxDepth': 4}\tareaUnderROC: 0.657579\tavg: 0.684163\n",
      "Comparing models on fold 5\n",
      "params: {'maxDepth': 4}\tareaUnderROC: 0.738416\tavg: 0.695014\n",
      "Best model:\n",
      "params: {'maxDepth': 4}\tareaUnderROC: 0.695014\n"
     ]
    }
   ],
   "source": [
    "from pyspark.ml.evaluation import BinaryClassificationEvaluator\n",
    "from pyspark.ml.classification import RandomForestClassifier\n",
    "from pyspark.ml.tuning import ParamGridBuilder\n",
    "\n",
    "df = training_df.select('Features', 'winner_indexed')\n",
    "df.show()\n",
    "\n",
    "rf = RandomForestClassifier(featuresCol='Features', labelCol='winner_indexed', maxDepth=4)\n",
    "grid = ParamGridBuilder().addGrid(rf.maxDepth, values=[4]).build()\n",
    "\n",
    "# Implementa k-Folds e imprime informacion por cada iteracion\n",
    "cv = CrossValidatorVerbose(estimator=rf,\n",
    "                           estimatorParamMaps=grid,\n",
    "                           evaluator=BinaryClassificationEvaluator(labelCol='winner_indexed'),\n",
    "                           numFolds=5)\n",
    "\n",
    "cvrf_model, rf_folds = cv.fit(df)"
   ]
  },
  {
   "cell_type": "markdown",
   "metadata": {},
   "source": [
    "## Model 3: Decision Tree"
   ]
  },
  {
   "cell_type": "code",
   "execution_count": 7,
   "metadata": {},
   "outputs": [
    {
     "name": "stdout",
     "output_type": "stream",
     "text": [
      "+--------------------+--------------+\n",
      "|            Features|winner_indexed|\n",
      "+--------------------+--------------+\n",
      "|[2.32030257664662...|           1.0|\n",
      "|[2.32030257664662...|           1.0|\n",
      "|[2.53783094320724...|           0.0|\n",
      "|[2.53783094320724...|           0.0|\n",
      "|[2.93663294856837...|           0.0|\n",
      "|[2.93663294856837...|           0.0|\n",
      "|[2.93663294856837...|           0.0|\n",
      "|[2.93663294856837...|           1.0|\n",
      "|[2.93663294856837...|           1.0|\n",
      "|[2.93663294856837...|           1.0|\n",
      "|[2.93663294856837...|           1.0|\n",
      "|[3.00914240408858...|           0.0|\n",
      "|[3.00914240408858...|           0.0|\n",
      "|[3.04539713184868...|           0.0|\n",
      "|[3.04539713184868...|           0.0|\n",
      "|[3.11790658736889...|           1.0|\n",
      "|[3.15416131512899...|           0.0|\n",
      "|[3.15416131512899...|           0.0|\n",
      "|[3.15416131512899...|           0.0|\n",
      "|[3.19041604288910...|           0.0|\n",
      "+--------------------+--------------+\n",
      "only showing top 20 rows\n",
      "\n",
      "Comparing models on fold 1\n",
      "params: {'maxDepth': 4}\tareaUnderROC: 0.569885\tavg: 0.569885\n",
      "Comparing models on fold 2\n",
      "params: {'maxDepth': 4}\tareaUnderROC: 0.633997\tavg: 0.601941\n",
      "Comparing models on fold 3\n",
      "params: {'maxDepth': 4}\tareaUnderROC: 0.584225\tavg: 0.596036\n",
      "Comparing models on fold 4\n",
      "params: {'maxDepth': 4}\tareaUnderROC: 0.456790\tavg: 0.561224\n",
      "Comparing models on fold 5\n",
      "params: {'maxDepth': 4}\tareaUnderROC: 0.464226\tavg: 0.541825\n",
      "Best model:\n",
      "params: {'maxDepth': 4}\tareaUnderROC: 0.541825\n"
     ]
    }
   ],
   "source": [
    "from pyspark.ml.evaluation import BinaryClassificationEvaluator\n",
    "from pyspark.ml.classification import DecisionTreeClassifier\n",
    "from pyspark.ml.tuning import ParamGridBuilder\n",
    "\n",
    "df = training_df.select('Features', 'winner_indexed')\n",
    "df.show()\n",
    "\n",
    "dt = DecisionTreeClassifier(featuresCol='Features', labelCol='winner_indexed', maxDepth = 4)\n",
    "grid = ParamGridBuilder().addGrid(dt.maxDepth, values=[4]).build()\n",
    "\n",
    "# Implementa k-Folds e imprime informacion por cada iteracion\n",
    "cv = CrossValidatorVerbose(estimator=dt,\n",
    "                           estimatorParamMaps=grid,\n",
    "                           evaluator=BinaryClassificationEvaluator(labelCol='winner_indexed'),\n",
    "                           numFolds=5)\n",
    "\n",
    "cvdt_model, dt_folds = cv.fit(df)"
   ]
  },
  {
   "cell_type": "markdown",
   "metadata": {},
   "source": [
    "# Evaluación del conjunto de validación"
   ]
  },
  {
   "cell_type": "code",
   "execution_count": 8,
   "metadata": {},
   "outputs": [],
   "source": [
    "from pyspark.ml.evaluation import BinaryClassificationEvaluator, MulticlassClassificationEvaluator\n",
    "from pyspark.mllib.evaluation import BinaryClassificationMetrics\n",
    "from pyspark.sql.functions import explode, array, lit, col\n",
    "from pyspark.ml.functions import vector_to_array\n",
    "import matplotlib.pyplot as plt\n",
    "import numpy as np\n",
    "\n",
    "def display_metrics(model):\n",
    "    # Make predictions on the test set\n",
    "    predictions = model.transform(test_df.select('Features', 'winner_indexed'))\n",
    "\n",
    "    # Evaluate the model\n",
    "    evaluator = BinaryClassificationEvaluator(labelCol='winner_indexed')\n",
    "    auroc = evaluator.evaluate(predictions, {evaluator.metricName: \"areaUnderROC\"})\n",
    "    auprc = evaluator.evaluate(predictions, {evaluator.metricName: \"areaUnderPR\"})\n",
    "    print(\"Area under ROC Curve: {:.5f}\".format(auroc))\n",
    "    print(\"Area under PR Curve: {:.5f}\".format(auprc))\n",
    "    \n",
    "    evaluator = MulticlassClassificationEvaluator(labelCol='winner_indexed', metricName=\"accuracy\")\n",
    "    acc = evaluator.evaluate(predictions)\n",
    "    print(\"Accuracy: {:.5f}\".format(acc))\n",
    "\n",
    "    return auroc, auprc, acc\n",
    "    \n",
    "def save_model(model_name, model):\n",
    "    \n",
    "    predictions = model.transform(test_df.select('Features', 'winner_indexed'))\n",
    "    \n",
    "    pre_df = (predictions.withColumn(\"Features\", vector_to_array(\"Features\"))).select([\"prediction\"] + [\"winner_indexed\"] + [col(\"Features\")[i].alias(columns_features[i]) for i in range(len(columns_features))])    \n",
    "    pre_df.printSchema()\n",
    "    \n",
    "    pre_df \\\n",
    "        .write \\\n",
    "        .format(\"jdbc\") \\\n",
    "        .mode('overwrite') \\\n",
    "        .option(\"url\", \"jdbc:postgresql://172.17.0.1:5433/postgres\") \\\n",
    "        .option(\"user\", \"postgres\") \\\n",
    "        .option(\"password\", \"testPassword\") \\\n",
    "        .option(\"dbtable\", model_name) \\\n",
    "        .save()"
   ]
  },
  {
   "cell_type": "markdown",
   "metadata": {},
   "source": [
    "## Evaluación y almacenado de modelo 1"
   ]
  },
  {
   "cell_type": "code",
   "execution_count": 9,
   "metadata": {},
   "outputs": [
    {
     "name": "stdout",
     "output_type": "stream",
     "text": [
      "Pesos: [0.06214869265023425,-0.0004601059180904877,-0.09828136896828879,-0.12036879182640567,-0.3626936530942706,0.21711341341365897,0.04045015923114121,0.024612145790133263,-0.12870898367756106,0.15686666069038127,-0.28567996255785655,0.10788505259452226,0.3014173054856715,0.16314719855712104,-0.23761966103758356,0.1561137667934647,-0.13700723203122003]\n",
      " b: -1.1537841124121377\n"
     ]
    },
    {
     "data": {
      "image/png": "[encoded data removed]",
      "text/plain": [
       "<Figure size 432x288 with 1 Axes>"
      ]
     },
     "metadata": {
      "needs_background": "light"
     },
     "output_type": "display_data"
    },
    {
     "name": "stderr",
     "output_type": "stream",
     "text": [
      "/usr/lib/python3.7/site-packages/pyspark/sql/context.py:127: FutureWarning: Deprecated in 3.0.0. Use SparkSession.builder.getOrCreate() instead.\n",
      "  FutureWarning\n"
     ]
    },
    {
     "data": {
      "image/png": "[encoded data removed]",
      "text/plain": [
       "<Figure size 432x288 with 1 Axes>"
      ]
     },
     "metadata": {
      "needs_background": "light"
     },
     "output_type": "display_data"
    },
    {
     "name": "stderr",
     "output_type": "stream",
     "text": [
      "/usr/lib/python3.7/site-packages/pyspark/sql/context.py:127: FutureWarning: Deprecated in 3.0.0. Use SparkSession.builder.getOrCreate() instead.\n",
      "  FutureWarning\n"
     ]
    },
    {
     "data": {
      "image/png": "[encoded data removed]",
      "text/plain": [
       "<Figure size 432x288 with 1 Axes>"
      ]
     },
     "metadata": {
      "needs_background": "light"
     },
     "output_type": "display_data"
    },
    {
     "name": "stdout",
     "output_type": "stream",
     "text": [
      "Area under ROC Curve: 0.67774\n",
      "Area under PR Curve: 0.53351\n",
      "Accuracy: 0.65727\n",
      "root\n",
      " |-- prediction: double (nullable = false)\n",
      " |-- winner_indexed: double (nullable = true)\n",
      " |-- duration: double (nullable = true)\n",
      " |-- director_indexed: double (nullable = true)\n",
      " |-- writer_indexed: double (nullable = true)\n",
      " |-- production_company_indexed: double (nullable = true)\n",
      " |-- actors_indexed: double (nullable = true)\n",
      " |-- genre_indexed: double (nullable = true)\n",
      " |-- avg_vote: double (nullable = true)\n",
      " |-- votes: double (nullable = true)\n",
      " |-- reviews_from_users: double (nullable = true)\n",
      " |-- reviews_from_critics: double (nullable = true)\n",
      " |-- tomatometer_rating: double (nullable = true)\n",
      " |-- tomatometer_count: double (nullable = true)\n",
      " |-- audience_rating: double (nullable = true)\n",
      " |-- audience_count: double (nullable = true)\n",
      " |-- tomatometer_top_critics_count: double (nullable = true)\n",
      " |-- tomatometer_fresh_critics_count: double (nullable = true)\n",
      " |-- tomatometer_rotten_critics_count: double (nullable = true)\n",
      "\n"
     ]
    }
   ],
   "source": [
    "# Crea graficas y analisis de los resultados\n",
    "\n",
    "# Weights\n",
    "print('Pesos: {}\\n b: {}'.format(cvlr_model.bestModel.coefficients, cvlr_model.bestModel.intercept))\n",
    "\n",
    "# Coefficients \n",
    "beta = np.sort(cvlr_model.bestModel.coefficients)\n",
    "plt.plot(beta)\n",
    "plt.ylabel('Beta Coefficients')\n",
    "plt.show()\n",
    "\n",
    "# Area under ROC\n",
    "trainingSummary = cvlr_model.bestModel.summary\n",
    "roc = trainingSummary.roc.toPandas()\n",
    "plt.plot(roc['FPR'],roc['TPR'])\n",
    "plt.ylabel('False Positive Rate')\n",
    "plt.xlabel('True Positive Rate')\n",
    "plt.title('ROC Curve')\n",
    "plt.show()\n",
    "\n",
    "# Precision and recall.\n",
    "pr = trainingSummary.pr.toPandas()\n",
    "plt.plot(pr['recall'],pr['precision'])\n",
    "plt.ylabel('Precision')\n",
    "plt.xlabel('Recall')\n",
    "plt.show()\n",
    "    \n",
    "cvlr_auroc, cvlr_auprc, cvlr_acc = display_metrics(cvlr_model)\n",
    "\n",
    "# Guardar modelo en base de datos\n",
    "save_model(\"modelo1\", cvlr_model)"
   ]
  },
  {
   "cell_type": "markdown",
   "metadata": {},
   "source": [
    "## Evaluación y almacenado de modelo 2"
   ]
  },
  {
   "cell_type": "code",
   "execution_count": 10,
   "metadata": {},
   "outputs": [
    {
     "name": "stderr",
     "output_type": "stream",
     "text": [
      "/usr/lib/python3.7/site-packages/pyspark/sql/context.py:127: FutureWarning: Deprecated in 3.0.0. Use SparkSession.builder.getOrCreate() instead.\n",
      "  FutureWarning\n"
     ]
    },
    {
     "data": {
      "image/png": "[encoded data removed]",
      "text/plain": [
       "<Figure size 432x288 with 1 Axes>"
      ]
     },
     "metadata": {
      "needs_background": "light"
     },
     "output_type": "display_data"
    },
    {
     "name": "stderr",
     "output_type": "stream",
     "text": [
      "/usr/lib/python3.7/site-packages/pyspark/sql/context.py:127: FutureWarning: Deprecated in 3.0.0. Use SparkSession.builder.getOrCreate() instead.\n",
      "  FutureWarning\n"
     ]
    },
    {
     "data": {
      "image/png": "[encoded data removed]",
      "text/plain": [
       "<Figure size 432x288 with 1 Axes>"
      ]
     },
     "metadata": {
      "needs_background": "light"
     },
     "output_type": "display_data"
    },
    {
     "name": "stdout",
     "output_type": "stream",
     "text": [
      "Area under ROC Curve: 0.75433\n",
      "Area under PR Curve: 0.65656\n",
      "Accuracy: 0.70716\n",
      "root\n",
      " |-- prediction: double (nullable = false)\n",
      " |-- winner_indexed: double (nullable = true)\n",
      " |-- duration: double (nullable = true)\n",
      " |-- director_indexed: double (nullable = true)\n",
      " |-- writer_indexed: double (nullable = true)\n",
      " |-- production_company_indexed: double (nullable = true)\n",
      " |-- actors_indexed: double (nullable = true)\n",
      " |-- genre_indexed: double (nullable = true)\n",
      " |-- avg_vote: double (nullable = true)\n",
      " |-- votes: double (nullable = true)\n",
      " |-- reviews_from_users: double (nullable = true)\n",
      " |-- reviews_from_critics: double (nullable = true)\n",
      " |-- tomatometer_rating: double (nullable = true)\n",
      " |-- tomatometer_count: double (nullable = true)\n",
      " |-- audience_rating: double (nullable = true)\n",
      " |-- audience_count: double (nullable = true)\n",
      " |-- tomatometer_top_critics_count: double (nullable = true)\n",
      " |-- tomatometer_fresh_critics_count: double (nullable = true)\n",
      " |-- tomatometer_rotten_critics_count: double (nullable = true)\n",
      "\n"
     ]
    },
    {
     "name": "stderr",
     "output_type": "stream",
     "text": [
      "                                                                                \r"
     ]
    }
   ],
   "source": [
    "# Area under ROC\n",
    "trainingSummary = cvrf_model.bestModel.summary\n",
    "roc = trainingSummary.roc.toPandas()\n",
    "plt.plot(roc['FPR'],roc['TPR'])\n",
    "plt.ylabel('False Positive Rate')\n",
    "plt.xlabel('True Positive Rate')\n",
    "plt.title('ROC Curve')\n",
    "plt.show()\n",
    "\n",
    "# Precision and recall.\n",
    "pr = trainingSummary.pr.toPandas()\n",
    "plt.plot(pr['recall'],pr['precision'])\n",
    "plt.ylabel('Precision')\n",
    "plt.xlabel('Recall')\n",
    "plt.show()\n",
    "\n",
    "# Crea graficas y analisis de los resultados\n",
    "cvrf_auroc, cvrf_auprc, cvrf_acc = display_metrics(cvrf_model)\n",
    "\n",
    "# Guardar modelo en base de datos\n",
    "save_model(\"modelo2\", cvrf_model)"
   ]
  },
  {
   "cell_type": "markdown",
   "metadata": {},
   "source": [
    "## Evaluación y almacenado de modelo 3"
   ]
  },
  {
   "cell_type": "code",
   "execution_count": 11,
   "metadata": {},
   "outputs": [
    {
     "name": "stdout",
     "output_type": "stream",
     "text": [
      "Area under ROC Curve: 0.68487\n",
      "Area under PR Curve: 0.57042\n",
      "Accuracy: 0.68113\n",
      "root\n",
      " |-- prediction: double (nullable = false)\n",
      " |-- winner_indexed: double (nullable = true)\n",
      " |-- duration: double (nullable = true)\n",
      " |-- director_indexed: double (nullable = true)\n",
      " |-- writer_indexed: double (nullable = true)\n",
      " |-- production_company_indexed: double (nullable = true)\n",
      " |-- actors_indexed: double (nullable = true)\n",
      " |-- genre_indexed: double (nullable = true)\n",
      " |-- avg_vote: double (nullable = true)\n",
      " |-- votes: double (nullable = true)\n",
      " |-- reviews_from_users: double (nullable = true)\n",
      " |-- reviews_from_critics: double (nullable = true)\n",
      " |-- tomatometer_rating: double (nullable = true)\n",
      " |-- tomatometer_count: double (nullable = true)\n",
      " |-- audience_rating: double (nullable = true)\n",
      " |-- audience_count: double (nullable = true)\n",
      " |-- tomatometer_top_critics_count: double (nullable = true)\n",
      " |-- tomatometer_fresh_critics_count: double (nullable = true)\n",
      " |-- tomatometer_rotten_critics_count: double (nullable = true)\n",
      "\n"
     ]
    }
   ],
   "source": [
    "# Crea graficas y analisis de los resultados\n",
    "cvdt_auroc, cvdt_auprc, cvdt_acc = display_metrics(cvdt_model)\n",
    "\n",
    "# Guardar modelo en base de datos\n",
    "save_model(\"modelo3\", cvdt_model)"
   ]
  },
  {
   "cell_type": "markdown",
   "metadata": {},
   "source": [
    "## Analisis de resultados"
   ]
  },
  {
   "cell_type": "code",
   "execution_count": 12,
   "metadata": {},
   "outputs": [
    {
     "data": {
      "text/plain": [
       "Text(0, 0.5, 'Area under ROC Curve')"
      ]
     },
     "execution_count": 12,
     "metadata": {},
     "output_type": "execute_result"
    },
    {
     "data": {
      "image/png": "[encoded data removed]",
      "text/plain": [
       "<Figure size 936x504 with 1 Axes>"
      ]
     },
     "metadata": {
      "needs_background": "light"
     },
     "output_type": "display_data"
    }
   ],
   "source": [
    "import pandas as pd \n",
    "\n",
    "names = ['Logistic Regression','Random Forest','Decision Tree']\n",
    "\n",
    "results = pd.Series([cvlr_auroc , cvrf_auroc, cvdt_auroc])\n",
    "ax = results.plot(kind = 'bar',figsize=(13,7),color=['black','gray','brown'])\n",
    "ax.set_title('Comparision of Models',fontsize=15)\n",
    "ax.set_yticks([0.0,0.1,0.2,0.3,0.4,0.5,0.6,0.7,0.8,0.9])\n",
    "ax.set_xticklabels(names ,fontsize=15,rotation = 45)\n",
    "ax.set_xlabel(\"Models\",fontsize=15)\n",
    "ax.set_ylabel(\"Area under ROC Curve\",fontsize=15)"
   ]
  },
  {
   "cell_type": "code",
   "execution_count": 13,
   "metadata": {},
   "outputs": [
    {
     "data": {
      "text/plain": [
       "Text(0, 0.5, 'Area under PR Curve')"
      ]
     },
     "execution_count": 13,
     "metadata": {},
     "output_type": "execute_result"
    },
    {
     "data": {
      "image/png": "[encoded data removed]",
      "text/plain": [
       "<Figure size 936x504 with 1 Axes>"
      ]
     },
     "metadata": {
      "needs_background": "light"
     },
     "output_type": "display_data"
    }
   ],
   "source": [
    "import pandas as pd \n",
    "\n",
    "names = ['Logistic Regression','Random Forest','Decision Tree']\n",
    "\n",
    "results = pd.Series([cvlr_auprc , cvrf_auprc, cvdt_auprc])\n",
    "ax = results.plot(kind = 'bar',figsize=(13,7),color=['black','gray','brown'])\n",
    "ax.set_title('Comparision of Models',fontsize=15)\n",
    "ax.set_yticks([0.0,0.1,0.2,0.3,0.4,0.5,0.6,0.7,0.8,0.9])\n",
    "ax.set_xticklabels(names ,fontsize=15,rotation = 45)\n",
    "ax.set_xlabel(\"Models\",fontsize=15)\n",
    "ax.set_ylabel(\"Area under PR Curve\",fontsize=15)"
   ]
  },
  {
   "cell_type": "code",
   "execution_count": 14,
   "metadata": {},
   "outputs": [
    {
     "data": {
      "text/plain": [
       "Text(0, 0.5, 'Accuracy')"
      ]
     },
     "execution_count": 14,
     "metadata": {},
     "output_type": "execute_result"
    },
    {
     "data": {
      "image/png": "[encoded data removed]",
      "text/plain": [
       "<Figure size 936x504 with 1 Axes>"
      ]
     },
     "metadata": {
      "needs_background": "light"
     },
     "output_type": "display_data"
    }
   ],
   "source": [
    "import pandas as pd \n",
    "\n",
    "names = ['Logistic Regression','Random Forest','Decision Tree']\n",
    "\n",
    "results = pd.Series([cvlr_acc , cvrf_acc, cvdt_acc])\n",
    "ax = results.plot(kind = 'bar',figsize=(13,7),color=['black','gray','brown'])\n",
    "ax.set_title('Comparision of Models',fontsize=15)\n",
    "ax.set_yticks([0.0,0.1,0.2,0.3,0.4,0.5,0.6,0.7,0.8,0.9])\n",
    "ax.set_xticklabels(names ,fontsize=15,rotation = 45)\n",
    "ax.set_xlabel(\"Models\",fontsize=15)\n",
    "ax.set_ylabel(\"Accuracy\",fontsize=15)"
   ]
  },
  {
   "cell_type": "markdown",
   "metadata": {},
   "source": [
    "# Analisis de resultados\n",
    "\n",
    "Al realizar la comparacion de los modelos, se puede observar que el modelo 2 es el mejor, el modelo 1 es el segundo mejor y el modelo 3 es el tercero mejor. Para este caso el modelo de Random Forest dio los mejores resultados. En todos los casos se realizo un modelo de k-fold cross validation, para obtener una mejor precisión. En la iteracion de los folds, se esta imprimiendo el AUROC y es interesante observar cambia el valor de AUROC en cada iteración. \n",
    "\n",
    "Para todos los casos se obtuvieron acurraciesde entre 0.6 a 0.7, por lo que los resultados no son muy buenos. Al igaul que el AUC de los modelos, el AUC de los modelos de Random Forest es de 0.7, el AUC de los modelos de Decision Tree es de 0.7 y el AUC de los modelos de Regresión Logística es de 0.7.\n",
    "\n",
    "Una de las razones por las que el modelo no dio tan es porque a la hora de hacer los 'joins' se perdio mucha informacion de la tabla IMDB y Rotten Tomatoes, por lo que el dataset final no contenia suficiente informacion. Esto se dio debido a que la comparacion en el nombre de la pelicula no tomaba en cuenta diferencia de sintaxis, como lo son espacios, comas, etc. Una forma de solucionarlo es hacer uso de Jaccard Distance para comparar string. \n",
    "\n",
    "Otra fuente de error se da en la variables categoricas, ya que, al igual manejar string y convertirlos a numeros, se pierde la informacion de las variables categoricas. Por lo que se debe revisar la tranformacion de las variables categoricas por medio de One Hot Encoding, ya que, esta no esta dando los resultados esperado.\n",
    "\n",
    "Tambien cabe mencionar que el modelo es desbalanceado, ya que por su naturaleza hay muchas mas peliculas que solamente son nominadas y que no son ganadoras. Por lo que en la variable objetiivo se tuvo que hacer un imputacion de datos que pudo agregar sezgo a la precision del modelo.\n"
   ]
  }
 ],
 "metadata": {
  "kernelspec": {
   "display_name": "Python 3 (ipykernel)",
   "language": "python",
   "name": "python3"
  },
  "language_info": {
   "codemirror_mode": {
    "name": "ipython",
    "version": 3
   },
   "file_extension": ".py",
   "mimetype": "text/x-python",
   "name": "python",
   "nbconvert_exporter": "python",
   "pygments_lexer": "ipython3",
   "version": "3.7.10"
  }
 },
 "nbformat": 4,
 "nbformat_minor": 2
}
